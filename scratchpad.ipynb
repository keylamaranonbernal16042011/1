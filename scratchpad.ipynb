{
  "cells": [
    {
      "cell_type": "markdown",
      "metadata": {
        "id": "view-in-github",
        "colab_type": "text"
      },
      "source": [
        "<a href=\"https://colab.research.google.com/github/keylamaranonbernal16042011/1/blob/main/scratchpad.ipynb\" target=\"_parent\"><img src=\"https://colab.research.google.com/assets/colab-badge.svg\" alt=\"Open In Colab\"/></a>"
      ]
    },
    {
      "cell_type": "code",
      "execution_count": 1,
      "metadata": {
        "colab": {
          "base_uri": "https://localhost:8080/",
          "height": 176
        },
        "id": "lIYdn1woOS1n",
        "outputId": "4571a89b-5d39-4e9f-850f-1ae8c6098ef4"
      },
      "outputs": [
        {
          "output_type": "error",
          "ename": "IndentationError",
          "evalue": "expected an indented block after 'if' statement on line 8 (<ipython-input-1-14d9e26c08a5>, line 9)",
          "traceback": [
            "\u001b[0;36m  File \u001b[0;32m\"<ipython-input-1-14d9e26c08a5>\"\u001b[0;36m, line \u001b[0;32m9\u001b[0m\n\u001b[0;31m    print(\"Su promedio es: \",prom,\"Felicidades paso el año\")\u001b[0m\n\u001b[0m    ^\u001b[0m\n\u001b[0;31mIndentationError\u001b[0m\u001b[0;31m:\u001b[0m expected an indented block after 'if' statement on line 8\n"
          ]
        }
      ],
      "source": [
        "# Escribir un programa en Python para calcular el promedio de cinco notas.\n",
        "n1 = float(input(\"Ingresé la primera nota\"))\n",
        "n2 = float(input(\"Ingresé la segunda nota\"))\n",
        "n3 = float(input(\"Ingresé la tercera nota\"))\n",
        "n4 = float(input(\"Ingresé la cuarta nota\"))\n",
        "n5 = float(input(\"Ingresé la quinta nota\"))\n",
        "prom = (n1+n2+n3+n4+n5)/3\n",
        "if(prom>=3):\n",
        "print(\"Su promedio es: \",prom,\"Felicidades paso el año\")\n",
        "else:\n",
        "print(\"Su promedio es: \",prom,\"Lo siento no paso el año\")"
      ]
    }
  ],
  "metadata": {
    "colab": {
      "name": "scratchpad",
      "provenance": [],
      "include_colab_link": true
    },
    "kernelspec": {
      "display_name": "Python 3",
      "name": "python3"
    }
  },
  "nbformat": 4,
  "nbformat_minor": 0
}